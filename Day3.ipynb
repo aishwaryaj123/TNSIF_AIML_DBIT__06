{
 "cells": [
  {
   "cell_type": "code",
   "execution_count": 10,
   "id": "5d4fbc6a-b3a4-40b7-bf36-6903e374ec1a",
   "metadata": {},
   "outputs": [
    {
     "name": "stdout",
     "output_type": "stream",
     "text": [
      "Enter 10 elements\n"
     ]
    },
    {
     "name": "stdin",
     "output_type": "stream",
     "text": [
      "enterelement0: 2 \n",
      "enterelement1: 5\n",
      "enterelement2: 7\n",
      "enterelement3: 2\n",
      "enterelement4: 8\n",
      "enterelement5: 0\n",
      "enterelement6: 2\n",
      "enterelement7: 6\n",
      "enterelement8: 7\n",
      "enterelement9: 8\n"
     ]
    },
    {
     "name": "stdout",
     "output_type": "stream",
     "text": [
      "List [2, 5, 7, 2, 8, 0, 2, 6, 7, 8]\n",
      "List after removing [2, 2, 8, 0, 2, 6, 8]\n"
     ]
    }
   ],
   "source": [
    "# Accept a list with numbers having 10 elements. Remove the third element and all odd elements.\n",
    "l1=[]\n",
    "l2=[]\n",
    "print(\"Enter 10 elements\")\n",
    "for i in range(10):\n",
    "    s='enterelement'+str(i)+':'\n",
    "    ele=int(input(s))\n",
    "    l1=l1+[ele]\n",
    "print(\"List\",l1)\n",
    "l1.pop(2)\n",
    "for i in range(9):\n",
    "    if l1[i]%2==0:\n",
    "        l2.append(l1[i])\n",
    "print(\"List after removing\",l2)"
   ]
  },
  {
   "cell_type": "code",
   "execution_count": 11,
   "id": "31960532-02c2-4fb5-85f6-97bd5c033ba6",
   "metadata": {},
   "outputs": [
    {
     "data": {
      "text/plain": [
       "[20, 21, 22, 23, 24]"
      ]
     },
     "execution_count": 11,
     "metadata": {},
     "output_type": "execute_result"
    }
   ],
   "source": [
    "li=list(range(20,25))\n",
    "li"
   ]
  },
  {
   "cell_type": "code",
   "execution_count": 16,
   "id": "b23dd0cd-490c-4291-95e3-a357e18e160a",
   "metadata": {},
   "outputs": [
    {
     "data": {
      "text/plain": [
       "[24, 23, 22, 21, 20]"
      ]
     },
     "execution_count": 16,
     "metadata": {},
     "output_type": "execute_result"
    }
   ],
   "source": [
    "li.reverse()\n",
    "li"
   ]
  },
  {
   "cell_type": "code",
   "execution_count": 14,
   "id": "3e60713f-c4e4-4a59-870d-74c49787317f",
   "metadata": {},
   "outputs": [
    {
     "data": {
      "text/plain": [
       "[34, 32, 56, 78, 12]"
      ]
     },
     "execution_count": 14,
     "metadata": {},
     "output_type": "execute_result"
    }
   ],
   "source": [
    "li1=[34,32,56,78,12]\n",
    "li1"
   ]
  },
  {
   "cell_type": "code",
   "execution_count": 15,
   "id": "ac028f29-727b-44ff-9089-d4c35b37220e",
   "metadata": {},
   "outputs": [
    {
     "data": {
      "text/plain": [
       "[12, 32, 34, 56, 78]"
      ]
     },
     "execution_count": 15,
     "metadata": {},
     "output_type": "execute_result"
    }
   ],
   "source": [
    "li1.sort()\n",
    "li1"
   ]
  },
  {
   "cell_type": "code",
   "execution_count": 22,
   "id": "17d49616-2312-4795-8a76-e747df3d639b",
   "metadata": {},
   "outputs": [
    {
     "data": {
      "text/plain": [
       "['p', 'd', 'a', 'f', 'a', 'n']"
      ]
     },
     "execution_count": 22,
     "metadata": {},
     "output_type": "execute_result"
    }
   ],
   "source": [
    "k=['a','p','d','a','f','a','n']\n",
    "k.remove('a')  #only first occurance of 'a' is removed\n",
    "k"
   ]
  },
  {
   "cell_type": "code",
   "execution_count": 23,
   "id": "fad0c8a6-ea7d-4e6b-829c-77ac72af2fc5",
   "metadata": {},
   "outputs": [
    {
     "data": {
      "text/plain": [
       "['n', 'a', 'f', 'a', 'd', 'p']"
      ]
     },
     "execution_count": 23,
     "metadata": {},
     "output_type": "execute_result"
    }
   ],
   "source": [
    "k.reverse()\n",
    "k"
   ]
  },
  {
   "cell_type": "code",
   "execution_count": 24,
   "id": "3b7366de-23c4-497b-9c5b-620739f9288c",
   "metadata": {},
   "outputs": [
    {
     "data": {
      "text/plain": [
       "['n', 'f', 'a', 'd', 'p']"
      ]
     },
     "execution_count": 24,
     "metadata": {},
     "output_type": "execute_result"
    }
   ],
   "source": [
    "k.remove('a')\n",
    "k"
   ]
  },
  {
   "cell_type": "code",
   "execution_count": 25,
   "id": "636e4e96-c46e-41c7-8e44-41d579348dcd",
   "metadata": {},
   "outputs": [
    {
     "data": {
      "text/plain": [
       "{1: 'one', 2: 'two', 3: 'three'}"
      ]
     },
     "execution_count": 25,
     "metadata": {},
     "output_type": "execute_result"
    }
   ],
   "source": [
    "#Dictionaries\n",
    "a={1:\"one\",2:\"two\",3:\"three\"}\n",
    "a"
   ]
  },
  {
   "cell_type": "code",
   "execution_count": 28,
   "id": "bbd98c6c-725b-48c0-a149-cd1c3f3342b1",
   "metadata": {},
   "outputs": [
    {
     "data": {
      "text/plain": [
       "dict_values(['one', 'two', 'three'])"
      ]
     },
     "execution_count": 28,
     "metadata": {},
     "output_type": "execute_result"
    }
   ],
   "source": [
    "a1=a.values()\n",
    "a1"
   ]
  },
  {
   "cell_type": "code",
   "execution_count": null,
   "id": "eabac8e3-9424-43ba-8166-77fdda6ec7e4",
   "metadata": {},
   "outputs": [],
   "source": []
  }
 ],
 "metadata": {
  "kernelspec": {
   "display_name": "Python 3 (ipykernel)",
   "language": "python",
   "name": "python3"
  },
  "language_info": {
   "codemirror_mode": {
    "name": "ipython",
    "version": 3
   },
   "file_extension": ".py",
   "mimetype": "text/x-python",
   "name": "python",
   "nbconvert_exporter": "python",
   "pygments_lexer": "ipython3",
   "version": "3.11.7"
  }
 },
 "nbformat": 4,
 "nbformat_minor": 5
}
