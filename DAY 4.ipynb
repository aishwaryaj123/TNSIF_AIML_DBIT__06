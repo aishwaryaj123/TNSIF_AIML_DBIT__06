{
 "cells": [
  {
   "cell_type": "code",
   "execution_count": 4,
   "id": "4283bd31-e84d-41fa-ac6d-19ae704831d7",
   "metadata": {},
   "outputs": [
    {
     "name": "stdout",
     "output_type": "stream",
     "text": [
      "{'Harry': 8796543908, 'Sima': 9888765490, 'Rita': 6779765312}\n"
     ]
    },
    {
     "name": "stdin",
     "output_type": "stream",
     "text": [
      "Enter the name to be modified Harry\n",
      "Enter modified number 7865439087\n"
     ]
    },
    {
     "name": "stdout",
     "output_type": "stream",
     "text": [
      "Modified successfully\n",
      "{'Harry': '7865439087', 'Sima': 9888765490, 'Rita': 6779765312}\n"
     ]
    }
   ],
   "source": [
    "#update existing phonenumber dictionary\n",
    "phonebook={\"Harry\":8796543908,\"Sima\":9888765490,\"Rita\":6779765312}\n",
    "print(phonebook)\n",
    "name=input(\"Enter the name to be modified\")\n",
    "if name in phonebook:\n",
    "    newnum=input(\"Enter modified number\")\n",
    "    phonebook[name] = newnum\n",
    "    print(\"Modified successfully\")\n",
    "    print(phonebook)\n",
    "else:\n",
    "    print(name, \"was not found.\")"
   ]
  },
  {
   "cell_type": "code",
   "execution_count": 3,
   "id": "5ea3639a-73a9-4cd4-a6b5-ad4578225a69",
   "metadata": {},
   "outputs": [
    {
     "name": "stdout",
     "output_type": "stream",
     "text": [
      "{'Harry': 8796543908, 'Sima': 9888765490, 'Rita': 6779765312}\n",
      "{'Harry': 9807646889, 'Sima': 9888765490, 'Rita': 6779765312}\n",
      "{'Harry': 9807646889, 'Sima': 9888765490, 'Rita': 6779765312, 'Amir': 8976543210}\n"
     ]
    }
   ],
   "source": [
    "#Add Amir and his nuumber..Key value pair to be added\n",
    "phonebook={\"Harry\":8796543908,\"Sima\":9888765490,\"Rita\":6779765312}\n",
    "print(phonebook)\n",
    "phonebook[\"Harry\"]=9807646889\n",
    "print(phonebook)\n",
    "phonebook.update({\"Amir\":8976543210})\n",
    "print(phonebook)"
   ]
  },
  {
   "cell_type": "code",
   "execution_count": 5,
   "id": "f57d384f-148d-424c-8cb1-2da1422ee149",
   "metadata": {},
   "outputs": [
    {
     "name": "stdout",
     "output_type": "stream",
     "text": [
      "{'Harry': 8796543908, 'Sima': 9888765490, 'Rita': 6779765312}\n"
     ]
    },
    {
     "name": "stdin",
     "output_type": "stream",
     "text": [
      "Enter the name to be modified Harry\n"
     ]
    },
    {
     "name": "stdout",
     "output_type": "stream",
     "text": [
      "Deleted successfully\n",
      "{'Sima': 9888765490, 'Rita': 6779765312}\n"
     ]
    }
   ],
   "source": [
    "#Deleting Key value pair\n",
    "phonebook={\"Harry\":8796543908,\"Sima\":9888765490,\"Rita\":6779765312}\n",
    "print(phonebook)\n",
    "name=input(\"Enter the name to be modified\")\n",
    "if name in phonebook:\n",
    "    del phonebook[name]\n",
    "    print(\"Deleted successfully\")\n",
    "    print(phonebook)\n",
    "else:\n",
    "    print(name, \"was not found\")\n"
   ]
  },
  {
   "cell_type": "code",
   "execution_count": 7,
   "id": "01fe0214-bcf6-45d6-a953-ca9a3ba0c852",
   "metadata": {},
   "outputs": [
    {
     "name": "stdout",
     "output_type": "stream",
     "text": [
      "{'Harry': 8796543908, 'Sima': 9888765490, 'Rita': 6779765312}\n",
      "Deleted successfully\n"
     ]
    },
    {
     "ename": "NameError",
     "evalue": "name 'phonebook' is not defined",
     "output_type": "error",
     "traceback": [
      "\u001b[1;31m---------------------------------------------------------------------------\u001b[0m",
      "\u001b[1;31mNameError\u001b[0m                                 Traceback (most recent call last)",
      "Cell \u001b[1;32mIn[7], line 5\u001b[0m\n\u001b[0;32m      3\u001b[0m \u001b[38;5;28;01mdel\u001b[39;00m phonebook\n\u001b[0;32m      4\u001b[0m \u001b[38;5;28mprint\u001b[39m(\u001b[38;5;124m\"\u001b[39m\u001b[38;5;124mDeleted successfully\u001b[39m\u001b[38;5;124m\"\u001b[39m)\n\u001b[1;32m----> 5\u001b[0m \u001b[38;5;28mprint\u001b[39m(phonebook)\n",
      "\u001b[1;31mNameError\u001b[0m: name 'phonebook' is not defined"
     ]
    }
   ],
   "source": [
    "#Trying to delete whole dictionary\n",
    "phonebook={\"Harry\":8796543908,\"Sima\":9888765490,\"Rita\":6779765312}\n",
    "print(phonebook)\n",
    "del phonebook\n",
    "print(phonebook)"
   ]
  },
  {
   "cell_type": "code",
   "execution_count": 8,
   "id": "f2e47d9b-5f54-41ce-a05e-4cd234a3a637",
   "metadata": {},
   "outputs": [
    {
     "ename": "NameError",
     "evalue": "name 'phonebook' is not defined",
     "output_type": "error",
     "traceback": [
      "\u001b[1;31m---------------------------------------------------------------------------\u001b[0m",
      "\u001b[1;31mNameError\u001b[0m                                 Traceback (most recent call last)",
      "Cell \u001b[1;32mIn[8], line 1\u001b[0m\n\u001b[1;32m----> 1\u001b[0m \u001b[38;5;28mlen\u001b[39m(phonebook)\n",
      "\u001b[1;31mNameError\u001b[0m: name 'phonebook' is not defined"
     ]
    }
   ],
   "source": [
    "len(phonebook)"
   ]
  },
  {
   "cell_type": "code",
   "execution_count": 9,
   "id": "4ba0111e-1423-4b56-b247-a8f516a12979",
   "metadata": {},
   "outputs": [
    {
     "name": "stdout",
     "output_type": "stream",
     "text": [
      "{'Harry': 8796543908, 'Sima': 9888765490, 'Rita': 6779765312}\n"
     ]
    }
   ],
   "source": [
    "phonebook={\"Harry\":8796543908,\"Sima\":9888765490,\"Rita\":6779765312}\n",
    "print(phonebook)"
   ]
  },
  {
   "cell_type": "code",
   "execution_count": 10,
   "id": "b6b96a11-14d6-463c-9e40-f8ff7973335c",
   "metadata": {},
   "outputs": [
    {
     "data": {
      "text/plain": [
       "3"
      ]
     },
     "execution_count": 10,
     "metadata": {},
     "output_type": "execute_result"
    }
   ],
   "source": [
    "len(phonebook)"
   ]
  },
  {
   "cell_type": "code",
   "execution_count": 11,
   "id": "d96f1397-b72d-4032-a316-ebad4c1eae3f",
   "metadata": {},
   "outputs": [
    {
     "data": {
      "text/plain": [
       "\"{'Harry': 8796543908, 'Sima': 9888765490, 'Rita': 6779765312}\""
      ]
     },
     "execution_count": 11,
     "metadata": {},
     "output_type": "execute_result"
    }
   ],
   "source": [
    "str(phonebook)"
   ]
  },
  {
   "cell_type": "code",
   "execution_count": 13,
   "id": "24fd655d-931c-4379-ad1c-781674fce6e2",
   "metadata": {},
   "outputs": [
    {
     "name": "stdout",
     "output_type": "stream",
     "text": [
      "{}\n"
     ]
    }
   ],
   "source": [
    "phonebook.clear()\n",
    "print(phonebook)"
   ]
  },
  {
   "cell_type": "code",
   "execution_count": 15,
   "id": "d3e76139-0de9-430c-b520-d030d3a780f4",
   "metadata": {},
   "outputs": [
    {
     "name": "stdout",
     "output_type": "stream",
     "text": [
      "{'Harry': 8796543908, 'Sima': 9888765490, 'Rita': 6779765312}\n"
     ]
    }
   ],
   "source": [
    "phonebook={\"Harry\":8796543908,\"Sima\":9888765490,\"Rita\":6779765312}\n",
    "print(phonebook)"
   ]
  },
  {
   "cell_type": "code",
   "execution_count": 18,
   "id": "84949bdc-21f6-40de-a40c-1aaab3d50f89",
   "metadata": {},
   "outputs": [
    {
     "data": {
      "text/plain": [
       "dict_keys(['Harry', 'Sima', 'Rita'])"
      ]
     },
     "execution_count": 18,
     "metadata": {},
     "output_type": "execute_result"
    }
   ],
   "source": [
    "phonebook.keys()"
   ]
  },
  {
   "cell_type": "code",
   "execution_count": 17,
   "id": "ca5e1b2b-8fc0-42dd-ae0a-ad296e985b4f",
   "metadata": {},
   "outputs": [
    {
     "data": {
      "text/plain": [
       "dict_values([8796543908, 9888765490, 6779765312])"
      ]
     },
     "execution_count": 17,
     "metadata": {},
     "output_type": "execute_result"
    }
   ],
   "source": [
    "phonebook.values()"
   ]
  },
  {
   "cell_type": "code",
   "execution_count": null,
   "id": "1826a979-982e-46f4-94d1-225c1f5f6504",
   "metadata": {},
   "outputs": [],
   "source": []
  }
 ],
 "metadata": {
  "kernelspec": {
   "display_name": "Python 3 (ipykernel)",
   "language": "python",
   "name": "python3"
  },
  "language_info": {
   "codemirror_mode": {
    "name": "ipython",
    "version": 3
   },
   "file_extension": ".py",
   "mimetype": "text/x-python",
   "name": "python",
   "nbconvert_exporter": "python",
   "pygments_lexer": "ipython3",
   "version": "3.11.7"
  }
 },
 "nbformat": 4,
 "nbformat_minor": 5
}
