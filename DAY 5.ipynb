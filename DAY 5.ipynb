{
 "cells": [
  {
   "cell_type": "code",
   "execution_count": 1,
   "id": "a22e9e47-2955-414c-a215-63676a586621",
   "metadata": {},
   "outputs": [
    {
     "name": "stdin",
     "output_type": "stream",
     "text": [
      "Enter the number of employees:  3\n",
      "Enter salary of employee 1:  10000\n",
      "Enter salary of employee 2:  20000\n",
      "Enter salary of employee 3:  400000\n"
     ]
    },
    {
     "name": "stdout",
     "output_type": "stream",
     "text": [
      "Minimum salary: 10000\n",
      "Maximum salary: 400000\n"
     ]
    }
   ],
   "source": [
    "n = int(input(\"Enter the number of employees: \"))\n",
    "\n",
    "salaries = []\n",
    "for i in range(n):\n",
    "    salary = (input(f\"Enter salary of employee {i+1}: \"))\n",
    "    salaries.append(salary)\n",
    "    \n",
    "min_salary = min(salaries)\n",
    "max_salary = max(salaries)\n",
    "print(\"Minimum salary:\", min_salary)\n",
    "print(\"Maximum salary:\", max_salary)"
   ]
  },
  {
   "cell_type": "code",
   "execution_count": 2,
   "id": "45e422c3-1080-4040-ad68-75c18631d618",
   "metadata": {},
   "outputs": [
    {
     "name": "stdout",
     "output_type": "stream",
     "text": [
      "('PYTHON',)\n",
      "1\n",
      "4\n",
      "(10, 20, 30, 10, 20, 30)\n"
     ]
    }
   ],
   "source": [
    "t=tuple()\n",
    "t=t+(\"PYTHON\",)\n",
    "print(t)\n",
    "print(len(t))\n",
    "tl=(10,20,30)\n",
    "t2=tl+t\n",
    "print(len(t2))\n",
    "t3=tl*2\n",
    "print(t3)"
   ]
  },
  {
   "cell_type": "code",
   "execution_count": 12,
   "id": "08f5d9e6-dc2a-4394-ab16-3e60eb4e4318",
   "metadata": {},
   "outputs": [
    {
     "name": "stdin",
     "output_type": "stream",
     "text": [
      "Enter number of employees:  2\n",
      "Enter employee name:  aish\n",
      "Enter employee number:  6\n",
      "Enter employee name:  harsh\n",
      "Enter employee number:  81\n"
     ]
    },
    {
     "name": "stdout",
     "output_type": "stream",
     "text": [
      "\n",
      "Employee Dictionary:\n",
      "{'aish': '6', 'harsh': '81'}\n"
     ]
    }
   ],
   "source": [
    "employees = {}\n",
    "n = int(input(\"Enter number of employees: \"))\n",
    "for i in range(n):\n",
    "    name = input(\"Enter employee name: \")\n",
    "    number = input(\"Enter employee number: \")\n",
    "    employees[name] = number\n",
    "\n",
    "print(\"\\nEmployee Dictionary:\")\n",
    "print(employees)\n"
   ]
  },
  {
   "cell_type": "code",
   "execution_count": 1,
   "id": "86e69e35-444e-494c-856c-8739a1b00964",
   "metadata": {},
   "outputs": [
    {
     "name": "stdout",
     "output_type": "stream",
     "text": [
      "('ram', 1, 1223)\n"
     ]
    }
   ],
   "source": [
    "tup1=('ram',1,1223)\n",
    "print(tup1) "
   ]
  },
  {
   "cell_type": "code",
   "execution_count": 3,
   "id": "3f844530-1f9d-4bc1-9e49-008d74fd36e3",
   "metadata": {},
   "outputs": [
    {
     "name": "stdout",
     "output_type": "stream",
     "text": [
      "('ram',)\n",
      "<class 'tuple'>\n"
     ]
    }
   ],
   "source": [
    "tup1=('ram',)\n",
    "print(tup1)\n",
    "print(type(tup1))"
   ]
  },
  {
   "cell_type": "code",
   "execution_count": 6,
   "id": "756a5323-6204-4009-a2c0-4bb826b4bc34",
   "metadata": {},
   "outputs": [
    {
     "name": "stdout",
     "output_type": "stream",
     "text": [
      "<class 'str'>\n"
     ]
    }
   ],
   "source": [
    "tup=('ram')\n",
    "print(type(tup))\n"
   ]
  },
  {
   "cell_type": "code",
   "execution_count": null,
   "id": "af7bb78a-e1f7-48f6-a73f-f963bc1ede04",
   "metadata": {},
   "outputs": [],
   "source": []
  }
 ],
 "metadata": {
  "kernelspec": {
   "display_name": "Python 3 (ipykernel)",
   "language": "python",
   "name": "python3"
  },
  "language_info": {
   "codemirror_mode": {
    "name": "ipython",
    "version": 3
   },
   "file_extension": ".py",
   "mimetype": "text/x-python",
   "name": "python",
   "nbconvert_exporter": "python",
   "pygments_lexer": "ipython3",
   "version": "3.13.5"
  }
 },
 "nbformat": 4,
 "nbformat_minor": 5
}
