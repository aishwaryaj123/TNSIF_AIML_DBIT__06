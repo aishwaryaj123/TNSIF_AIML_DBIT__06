{
 "cells": [
  {
   "cell_type": "code",
   "execution_count": 2,
   "id": "baf197e8-e76b-44ca-8212-c277c66fb56a",
   "metadata": {},
   "outputs": [
    {
     "name": "stdin",
     "output_type": "stream",
     "text": [
      "Enter PIN:  1234\n"
     ]
    },
    {
     "name": "stdout",
     "output_type": "stream",
     "text": [
      "\n",
      "1. Check Balance\n",
      "2. Deposit\n",
      "3. Withdraw\n"
     ]
    },
    {
     "name": "stdin",
     "output_type": "stream",
     "text": [
      "Choose (1/2/3):  1\n"
     ]
    },
    {
     "name": "stdout",
     "output_type": "stream",
     "text": [
      "Balance: 5000\n"
     ]
    }
   ],
   "source": [
    "pin = \"1234\"\n",
    "balance = 5000\n",
    "\n",
    "for i in range(3):\n",
    "    entered = input(\"Enter PIN: \")\n",
    "    if entered == pin:\n",
    "        print(\"\\n1. Check Balance\\n2. Deposit\\n3. Withdraw\")\n",
    "        choice = input(\"Choose (1/2/3): \")\n",
    "        \n",
    "        if choice == \"1\":\n",
    "            print(\"Balance:\", balance)\n",
    "        \n",
    "        elif choice == \"2\":\n",
    "            amt = int(input(\"Deposit amount: \"))\n",
    "            if amt > 0:\n",
    "                balance += amt\n",
    "                print(\"New Balance:\", balance)\n",
    "            else:\n",
    "                print(\"Invalid deposit amount\")\n",
    "        \n",
    "        elif choice == \"3\":\n",
    "            amt = int(input(\"Withdraw amount: \"))\n",
    "            if 0 < amt <= balance:\n",
    "                balance -= amt\n",
    "                print(\"New Balance:\", balance)\n",
    "            else:\n",
    "                print(\"Insufficient funds or invalid amount\")\n",
    "        \n",
    "        else:\n",
    "            print(\"Invalid choice\")\n",
    "        break\n",
    "    else:\n",
    "        print(\"Wrong PIN\")\n",
    "\n",
    "else:\n",
    "    print(\"Too many wrong attempts\")\n"
   ]
  },
  {
   "cell_type": "code",
   "execution_count": 3,
   "id": "2c5ab885-823e-4aa5-b19d-23a0758e6deb",
   "metadata": {},
   "outputs": [
    {
     "name": "stdin",
     "output_type": "stream",
     "text": [
      "Enter PIN:  567\n"
     ]
    },
    {
     "name": "stdout",
     "output_type": "stream",
     "text": [
      "Wrong PIN\n"
     ]
    },
    {
     "name": "stdin",
     "output_type": "stream",
     "text": [
      "Enter PIN:  789\n"
     ]
    },
    {
     "name": "stdout",
     "output_type": "stream",
     "text": [
      "Wrong PIN\n"
     ]
    },
    {
     "name": "stdin",
     "output_type": "stream",
     "text": [
      "Enter PIN:  654\n"
     ]
    },
    {
     "name": "stdout",
     "output_type": "stream",
     "text": [
      "Wrong PIN\n",
      "Too many wrong attempts\n"
     ]
    }
   ],
   "source": [
    "pin = \"1234\"\n",
    "balance = 5000\n",
    "\n",
    "for i in range(3):\n",
    "    entered = input(\"Enter PIN: \")\n",
    "    if entered == pin:\n",
    "        print(\"\\n1. Check Balance\\n2. Deposit\\n3. Withdraw\")\n",
    "        choice = input(\"Choose (1/2/3): \")\n",
    "        \n",
    "        if choice == \"1\":\n",
    "            print(\"Balance:\", balance)\n",
    "        \n",
    "        elif choice == \"2\":\n",
    "            amt = int(input(\"Deposit amount: \"))\n",
    "            if amt > 0:\n",
    "                balance += amt\n",
    "                print(\"New Balance:\", balance)\n",
    "            else:\n",
    "                print(\"Invalid deposit amount\")\n",
    "        \n",
    "        elif choice == \"3\":\n",
    "            amt = int(input(\"Withdraw amount: \"))\n",
    "            if 0 < amt <= balance:\n",
    "                balance -= amt\n",
    "                print(\"New Balance:\", balance)\n",
    "            else:\n",
    "                print(\"Insufficient funds or invalid amount\")\n",
    "        \n",
    "        else:\n",
    "            print(\"Invalid choice\")\n",
    "        break\n",
    "    else:\n",
    "        print(\"Wrong PIN\")\n",
    "\n",
    "else:\n",
    "    print(\"Too many wrong attempts\")\n"
   ]
  },
  {
   "cell_type": "code",
   "execution_count": null,
   "id": "9cd64b75-a370-49fc-b8a7-b8ce05c613e8",
   "metadata": {},
   "outputs": [],
   "source": []
  }
 ],
 "metadata": {
  "kernelspec": {
   "display_name": "Python 3 (ipykernel)",
   "language": "python",
   "name": "python3"
  },
  "language_info": {
   "codemirror_mode": {
    "name": "ipython",
    "version": 3
   },
   "file_extension": ".py",
   "mimetype": "text/x-python",
   "name": "python",
   "nbconvert_exporter": "python",
   "pygments_lexer": "ipython3",
   "version": "3.13.5"
  }
 },
 "nbformat": 4,
 "nbformat_minor": 5
}
