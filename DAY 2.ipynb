{
 "cells": [
  {
   "cell_type": "code",
   "execution_count": 1,
   "id": "937a091d-16f8-41b3-9449-a7055c247f6d",
   "metadata": {},
   "outputs": [
    {
     "name": "stdin",
     "output_type": "stream",
     "text": [
      "enter the number 100\n"
     ]
    },
    {
     "name": "stdout",
     "output_type": "stream",
     "text": [
      "current total 100\n"
     ]
    },
    {
     "name": "stdin",
     "output_type": "stream",
     "text": [
      "enter the number 250\n"
     ]
    },
    {
     "name": "stdout",
     "output_type": "stream",
     "text": [
      "current total 350\n",
      "sum exceeded 300 .program stop \n"
     ]
    }
   ],
   "source": [
    "#to print the total sum ,where the total should bee less than or equal to 300 , if it exceeds 300 terminate\n",
    "\n",
    "total=0\n",
    "while total<=300:\n",
    "    num=int(input(\"enter the number\"))\n",
    "    total=total+num\n",
    "    print(\"current total\",total)\n",
    "print(\"sum exceeded 300 .program stop \")"
   ]
  },
  {
   "cell_type": "code",
   "execution_count": 2,
   "id": "fb9edb19-b495-4d5e-9538-e14c6ea71281",
   "metadata": {},
   "outputs": [
    {
     "name": "stdin",
     "output_type": "stream",
     "text": [
      "Enter a string:  aish\n",
      "Enter a string:  hhhh\n",
      "Enter a string:  bon\n",
      "Enter a string:  Bon\n"
     ]
    },
    {
     "name": "stdout",
     "output_type": "stream",
     "text": [
      "Voyage\n"
     ]
    }
   ],
   "source": [
    "# write a program that keeps accepting strings until 'Bon' is entered. The program should display 'Voyage' and quit execution\n",
    "while True:\n",
    "    userinput = input(\"Enter a string: \")\n",
    "    if userinput == \"Bon\":\n",
    "        print(\"Voyage\")\n",
    "        break\n"
   ]
  },
  {
   "cell_type": "code",
   "execution_count": 3,
   "id": "e4c3910f-3ab8-4310-880b-195ece971fdf",
   "metadata": {},
   "outputs": [
    {
     "name": "stdin",
     "output_type": "stream",
     "text": [
      "enter the address kalyan123nagar\n"
     ]
    },
    {
     "name": "stdout",
     "output_type": "stream",
     "text": [
      "123"
     ]
    }
   ],
   "source": [
    "#when user enters number and name of street,number has to be printed\n",
    "address = input(\"enter the address\")\n",
    "for ch in address:\n",
    "    if '0'<ch<'9':\n",
    "        print(ch,end='')"
   ]
  },
  {
   "cell_type": "code",
   "execution_count": 4,
   "id": "453c2ab1-6830-4892-b7f5-c2aa18881538",
   "metadata": {},
   "outputs": [
    {
     "name": "stdout",
     "output_type": "stream",
     "text": [
      "Enter 5 elements for the list:\n"
     ]
    },
    {
     "name": "stdin",
     "output_type": "stream",
     "text": [
      "Element 1:  234\n",
      "Element 2:  567\n",
      "Element 3:  hhh\n",
      "Element 4:  jjj\n",
      "Element 5:  kkk\n",
      "Enter your name:  aish\n"
     ]
    },
    {
     "name": "stdout",
     "output_type": "stream",
     "text": [
      "Modified list: ['234', '567', 'aish', 'jjj', 'aish']\n"
     ]
    }
   ],
   "source": [
    "#in the usser entered 5 lists,2rd and 4rth elements have to be replaced by user entered name\n",
    "user_list = []\n",
    "print(\"Enter 5 elements for the list:\")\n",
    "for i in range(5):\n",
    "    element = input(f\"Element {i+1}: \")\n",
    "    user_list.append(element)\n",
    "name = input(\"Enter your name: \")\n",
    "\n",
    "user_list[2] = name\n",
    "user_list[4] = name\n",
    "print(\"Modified list:\", user_list)"
   ]
  },
  {
   "cell_type": "code",
   "execution_count": 5,
   "id": "777e4b72-f794-444a-bddc-13787d0030af",
   "metadata": {},
   "outputs": [
    {
     "name": "stdin",
     "output_type": "stream",
     "text": [
      "Enter your name:  aishwarya\n"
     ]
    },
    {
     "name": "stdout",
     "output_type": "stream",
     "text": [
      "s\n",
      "h\n",
      "w\n",
      "r\n",
      "y\n"
     ]
    }
   ],
   "source": [
    "#accept name from user and print consonents\n",
    "n = input(\"Enter your name: \")\n",
    "for i in n:\n",
    "    if i=='a' or i=='e' or i=='i' or i=='o' or i=='u':\n",
    "        continue\n",
    "    else:\n",
    "        print(i)"
   ]
  },
  {
   "cell_type": "code",
   "execution_count": 22,
   "id": "9bfc9fdb-6e42-4ea8-a7a2-ea2737f24fc6",
   "metadata": {},
   "outputs": [
    {
     "name": "stdout",
     "output_type": "stream",
     "text": [
      "[1, 2, 3, 4, 5, 6, 7, 8, 9]\n"
     ]
    }
   ],
   "source": [
    "li=list(range(1,10))\n",
    "print(li)"
   ]
  },
  {
   "cell_type": "code",
   "execution_count": 23,
   "id": "4f88c597-7c55-48c8-b926-aa68ef0f476e",
   "metadata": {},
   "outputs": [
    {
     "data": {
      "text/plain": [
       "[1, 2, 3, 4, 5, 6, 7, 8, 9, 10]"
      ]
     },
     "execution_count": 23,
     "metadata": {},
     "output_type": "execute_result"
    }
   ],
   "source": [
    "li.append(10)\n",
    "li\n"
   ]
  },
  {
   "cell_type": "code",
   "execution_count": 24,
   "id": "72a8f279-eecc-432d-ab75-52d2562584e2",
   "metadata": {},
   "outputs": [
    {
     "data": {
      "text/plain": [
       "[1, 2, 3, 4, 33.5, 6, 7, 8, 9, 10]"
      ]
     },
     "execution_count": 24,
     "metadata": {},
     "output_type": "execute_result"
    }
   ],
   "source": [
    "li[4]=33.5\n",
    "li"
   ]
  },
  {
   "cell_type": "code",
   "execution_count": 26,
   "id": "d3cfdacf-ae2e-47a7-9a90-3336bdaeb64c",
   "metadata": {},
   "outputs": [
    {
     "data": {
      "text/plain": [
       "3"
      ]
     },
     "execution_count": 26,
     "metadata": {},
     "output_type": "execute_result"
    }
   ],
   "source": [
    "li[2]"
   ]
  },
  {
   "cell_type": "code",
   "execution_count": 27,
   "id": "c7b69869-ea4e-4e3b-a320-27a25dcf79ec",
   "metadata": {},
   "outputs": [
    {
     "data": {
      "text/plain": [
       "[1, 2, 1, 3, 4, 33.5, 6, 7, 8, 9, 10]"
      ]
     },
     "execution_count": 27,
     "metadata": {},
     "output_type": "execute_result"
    }
   ],
   "source": [
    "li.insert(2,1)\n",
    "li"
   ]
  },
  {
   "cell_type": "code",
   "execution_count": 28,
   "id": "b0357de9-f40c-4789-ac4b-a84df04e1259",
   "metadata": {},
   "outputs": [
    {
     "data": {
      "text/plain": [
       "[1, 2, 3, 4, 33.5, 6, 7, 8, 9, 10]"
      ]
     },
     "execution_count": 28,
     "metadata": {},
     "output_type": "execute_result"
    }
   ],
   "source": [
    "del li[2]\n",
    "li"
   ]
  },
  {
   "cell_type": "code",
   "execution_count": 29,
   "id": "cfc02287-94a4-4adb-8133-b7d855588463",
   "metadata": {},
   "outputs": [
    {
     "data": {
      "text/plain": [
       "[1, 2, 3, 4, 33.5, 6, 7, 8, 9]"
      ]
     },
     "execution_count": 29,
     "metadata": {},
     "output_type": "execute_result"
    }
   ],
   "source": [
    "li.pop()\n",
    "li"
   ]
  },
  {
   "cell_type": "code",
   "execution_count": 30,
   "id": "4de1e311-958d-43b6-8cdb-53ce7d248055",
   "metadata": {},
   "outputs": [
    {
     "data": {
      "text/plain": [
       "['aish', 'harsh']"
      ]
     },
     "execution_count": 30,
     "metadata": {},
     "output_type": "execute_result"
    }
   ],
   "source": [
    "li1 = [\"aish\",\"harsh\"]\n",
    "li1"
   ]
  },
  {
   "cell_type": "code",
   "execution_count": 31,
   "id": "cb9003ac-daeb-42ba-ba99-dba4c43e0618",
   "metadata": {},
   "outputs": [
    {
     "data": {
      "text/plain": [
       "['harsh']"
      ]
     },
     "execution_count": 31,
     "metadata": {},
     "output_type": "execute_result"
    }
   ],
   "source": [
    "li1.remove('aish')\n",
    "li1"
   ]
  },
  {
   "cell_type": "code",
   "execution_count": null,
   "id": "8e0fdb04-e2b2-44d1-b2c2-dd25e3de33c8",
   "metadata": {},
   "outputs": [],
   "source": []
  }
 ],
 "metadata": {
  "kernelspec": {
   "display_name": "Python 3 (ipykernel)",
   "language": "python",
   "name": "python3"
  },
  "language_info": {
   "codemirror_mode": {
    "name": "ipython",
    "version": 3
   },
   "file_extension": ".py",
   "mimetype": "text/x-python",
   "name": "python",
   "nbconvert_exporter": "python",
   "pygments_lexer": "ipython3",
   "version": "3.13.5"
  }
 },
 "nbformat": 4,
 "nbformat_minor": 5
}
